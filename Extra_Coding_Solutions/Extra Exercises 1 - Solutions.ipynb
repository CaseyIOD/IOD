{
 "cells": [
  {
   "cell_type": "markdown",
   "id": "f9bf4d1b-b2d7-47b7-899c-d1b67959da6a",
   "metadata": {},
   "source": [
    "## Extra Exercises 1 - Solutions"
   ]
  },
  {
   "cell_type": "code",
   "execution_count": 1,
   "id": "b6eb3087-2784-4c4e-8e0a-e23c9d57391b",
   "metadata": {},
   "outputs": [],
   "source": [
    "import numpy as np\n",
    "import pandas as pd"
   ]
  },
  {
   "cell_type": "markdown",
   "id": "039ddc28-c2d8-4fb3-9df0-e443158eb4a4",
   "metadata": {},
   "source": [
    "</br>\n",
    "\n",
    "#### 1. Combine many series to form a DataFrame"
   ]
  },
  {
   "cell_type": "code",
   "execution_count": 2,
   "id": "ce0af53f-9de9-49fc-8644-dc54d7aba095",
   "metadata": {},
   "outputs": [],
   "source": [
    "series1 = pd.Series(list('abcedfghijklmnopqrstuvwxyz'))\n",
    "series2 = pd.Series(np.arange(26))"
   ]
  },
  {
   "cell_type": "markdown",
   "id": "53e66aa8-9c31-4b1c-8ee7-ad60908ec2ab",
   "metadata": {},
   "source": [
    "**Solution**:"
   ]
  },
  {
   "cell_type": "code",
   "execution_count": 3,
   "id": "515ef721-e04d-4709-a2d8-f22f52fda85c",
   "metadata": {},
   "outputs": [],
   "source": [
    "# Solution 1\n",
    "df_concat = pd.concat([series1, series2], axis=1)\n",
    "\n",
    "# Solution 2\n",
    "df_dataframe = pd.DataFrame({'col1': series1, 'col2': series2})"
   ]
  },
  {
   "cell_type": "markdown",
   "id": "854d804c-b940-40eb-973b-d8019f035ff2",
   "metadata": {},
   "source": [
    "</br>\n",
    "\n",
    "#### 2. Keep only top 2 most frequent values as it is and replace everything else as 'Other'"
   ]
  },
  {
   "cell_type": "code",
   "execution_count": 88,
   "id": "d3c36531-fefb-4292-8341-1dd53e26a7d4",
   "metadata": {},
   "outputs": [],
   "source": [
    "np.random.seed(42)\n",
    "series = pd.Series(np.random.randint(1, 5, [12]))"
   ]
  },
  {
   "cell_type": "markdown",
   "id": "f60f496b-0569-4e0f-854d-a8a0e7864307",
   "metadata": {},
   "source": [
    "**Solution**:"
   ]
  },
  {
   "cell_type": "code",
   "execution_count": 89,
   "id": "3bafbb88-b9e5-4086-adaa-426c04feee96",
   "metadata": {},
   "outputs": [
    {
     "data": {
      "text/plain": [
       "0         3\n",
       "1     Other\n",
       "2         1\n",
       "3         3\n",
       "4         3\n",
       "5     Other\n",
       "6         1\n",
       "7         1\n",
       "8         3\n",
       "9     Other\n",
       "10        3\n",
       "11        3\n",
       "dtype: object"
      ]
     },
     "execution_count": 89,
     "metadata": {},
     "output_type": "execute_result"
    }
   ],
   "source": [
    "value_counts = series.value_counts()\n",
    "top_two_values = value_counts.index[:2]\n",
    "result = series.apply(lambda x: x if x in top_two_values else 'Other')\n",
    "result"
   ]
  },
  {
   "cell_type": "markdown",
   "id": "84d3497e-accd-4fdc-9c87-6122822d7920",
   "metadata": {},
   "source": [
    "**Extra**: Do the same but for the highest and lowest value count, replacing everything else as other."
   ]
  },
  {
   "cell_type": "code",
   "execution_count": 91,
   "id": "cb2d8573-2a03-4772-b9c0-43f011fe3c4b",
   "metadata": {},
   "outputs": [
    {
     "data": {
      "text/plain": [
       "0         3\n",
       "1     other\n",
       "2     other\n",
       "3         3\n",
       "4         3\n",
       "5     other\n",
       "6     other\n",
       "7     other\n",
       "8         3\n",
       "9         2\n",
       "10        3\n",
       "11        3\n",
       "dtype: object"
      ]
     },
     "execution_count": 91,
     "metadata": {},
     "output_type": "execute_result"
    }
   ],
   "source": [
    "value_counts = series.value_counts()\n",
    "\n",
    "highest_count_value = value_counts.idxmax()\n",
    "lowest_count_value = value_counts.idxmin()\n",
    "\n",
    "result = series.apply(lambda x: x if x in [highest_count_value, lowest_count_value] else 'other')\n",
    "result"
   ]
  },
  {
   "cell_type": "markdown",
   "id": "4edaf049-7b65-4731-a907-8ec03b6cde29",
   "metadata": {},
   "source": [
    "</br>\n",
    "\n",
    "#### 3. Extract items at given positions from a series"
   ]
  },
  {
   "cell_type": "code",
   "execution_count": 48,
   "id": "16e71ff4-4bc8-4cc5-8ced-0b4e94ed1e45",
   "metadata": {},
   "outputs": [],
   "source": [
    "series = pd.Series(list('abcdefghijklmnopqrstuvwxyz'))\n",
    "positions = [0, 4, 8, 14, 20]"
   ]
  },
  {
   "cell_type": "markdown",
   "id": "90332d1d-93cb-4a9e-a150-79645a108ab8",
   "metadata": {},
   "source": [
    "**Solution**:"
   ]
  },
  {
   "cell_type": "code",
   "execution_count": 49,
   "id": "4dfcd162-c269-4d73-bafb-4430d5b3a0a3",
   "metadata": {},
   "outputs": [
    {
     "data": {
      "text/plain": [
       "0     a\n",
       "4     e\n",
       "8     i\n",
       "14    o\n",
       "20    u\n",
       "dtype: object"
      ]
     },
     "execution_count": 49,
     "metadata": {},
     "output_type": "execute_result"
    }
   ],
   "source": [
    "series.take(positions)"
   ]
  },
  {
   "cell_type": "markdown",
   "id": "eee34094-59f4-43b9-897e-9591afe9552e",
   "metadata": {},
   "source": [
    "</br>\n",
    "\n",
    "#### 4. Compute differences between consecutive numbers of a series\n",
    "\n",
    "**Desired Output**: [nan, 2.0, 3.0, 4.0, 5.0, 6.0, 6.0, 8.0]"
   ]
  },
  {
   "cell_type": "code",
   "execution_count": 50,
   "id": "f890da6c-451e-430e-ab52-727c0e4c78ad",
   "metadata": {},
   "outputs": [],
   "source": [
    "series = pd.Series([1, 3, 6, 10, 15, 21, 27, 35])"
   ]
  },
  {
   "cell_type": "markdown",
   "id": "57d15c06-d11a-426c-ac5d-d25f4ccebfdf",
   "metadata": {},
   "source": [
    "**Solution**:"
   ]
  },
  {
   "cell_type": "code",
   "execution_count": 52,
   "id": "7cf487dd-36ac-4250-8577-6e620babed1a",
   "metadata": {},
   "outputs": [
    {
     "data": {
      "text/plain": [
       "[nan, 2.0, 3.0, 4.0, 5.0, 6.0, 6.0, 8.0]"
      ]
     },
     "execution_count": 52,
     "metadata": {},
     "output_type": "execute_result"
    }
   ],
   "source": [
    "diff_series = series.diff().tolist()\n",
    "diff_series"
   ]
  },
  {
   "cell_type": "markdown",
   "id": "bae504c8-cf93-42ce-912e-f1e69d8cbaa2",
   "metadata": {},
   "source": [
    "**Extra**:"
   ]
  },
  {
   "cell_type": "code",
   "execution_count": 54,
   "id": "5b882bb5-71a8-44d5-9bd4-edfd1c249754",
   "metadata": {},
   "outputs": [
    {
     "data": {
      "text/plain": [
       "[1, 4, 10, 20, 35, 56, 83, 118]"
      ]
     },
     "execution_count": 54,
     "metadata": {},
     "output_type": "execute_result"
    }
   ],
   "source": [
    "cumulative_series = series.cumsum().tolist()\n",
    "cumulative_series"
   ]
  },
  {
   "cell_type": "markdown",
   "id": "ceaed3aa-f208-4999-b4fc-e8b2299ff5f8",
   "metadata": {},
   "source": [
    "</br>\n",
    "\n",
    "#### 5. String Manipulation\n",
    "\n",
    "Have the user enter a string and write a function that capitalizes the first letter of each word."
   ]
  },
  {
   "cell_type": "markdown",
   "id": "40d4ae1a-2901-42d8-aee6-6dd4d3fcf6f8",
   "metadata": {},
   "source": [
    "**Solution**:"
   ]
  },
  {
   "cell_type": "code",
   "execution_count": 92,
   "id": "343a6fab-5bff-4ca2-a6cd-faa8cb0a3808",
   "metadata": {},
   "outputs": [
    {
     "name": "stdin",
     "output_type": "stream",
     "text": [
      "Enter a sentence:  i like pasta\n"
     ]
    },
    {
     "name": "stdout",
     "output_type": "stream",
     "text": [
      "Titlecased result: I Like Pasta\n"
     ]
    }
   ],
   "source": [
    "def title_case(sentence):\n",
    "    titlecased_sentence = sentence.title()  # Convert to title case\n",
    "    return titlecased_sentence\n",
    "\n",
    "input_sentence = input(\"Enter a sentence: \")\n",
    "\n",
    "titlecased_result = title_case(input_sentence)\n",
    "print(\"Titlecased result:\", titlecased_result)"
   ]
  },
  {
   "cell_type": "markdown",
   "id": "3b1a6dc2-d0b1-484a-8c2c-2cc0a642d743",
   "metadata": {},
   "source": [
    "**Extra**:"
   ]
  },
  {
   "cell_type": "code",
   "execution_count": 93,
   "id": "b6528966-896a-4a43-aaf2-efdeb7369450",
   "metadata": {},
   "outputs": [
    {
     "name": "stdout",
     "output_type": "stream",
     "text": [
      "Number of words: 3\n"
     ]
    }
   ],
   "source": [
    "word_count = len(input_sentence.split())\n",
    "print(\"Number of words:\", word_count)"
   ]
  },
  {
   "cell_type": "markdown",
   "id": "c82f2c3f-1c07-4d50-8547-ac418d5772c0",
   "metadata": {},
   "source": [
    "</br>\n",
    "\n",
    "#### 6. Extracting Data"
   ]
  },
  {
   "cell_type": "code",
   "execution_count": 63,
   "id": "3148039b-b18e-46e5-b22f-6915c8d219f2",
   "metadata": {},
   "outputs": [],
   "source": [
    "data = [\n",
    "    {\n",
    "        \"id\": 1,\n",
    "        \"name\": \"John\",\n",
    "        \"department\": [\"HR\", \"New York\"],\n",
    "        \"skills\": [\"communication\", \"teamwork\", \"leadership\"]\n",
    "    },\n",
    "    {\n",
    "        \"id\": 2,\n",
    "        \"name\": \"Jane\",\n",
    "        \"department\": [\"Finance\", \"San Francisco\"],\n",
    "        \"skills\": [\"accounting\", \"analysis\"]\n",
    "    },\n",
    "    {\n",
    "        \"id\": 3,\n",
    "        \"name\": \"Michael\",\n",
    "        \"department\": [\"Engineering\", \"Seattle\"],\n",
    "        \"skills\": [\"programming\", \"problem-solving\"]\n",
    "    },\n",
    "    {\n",
    "        \"id\": 4,\n",
    "        \"name\": \"Sarah\",\n",
    "        \"department\": [\"Marketing\", \"Los Angeles\"],\n",
    "        \"skills\": [\"marketing\", \"creativity\"]\n",
    "    },\n",
    "    {\n",
    "        \"id\": 5,\n",
    "        \"name\": \"David\",\n",
    "        \"department\": [\"Sales\", \"Chicago\"],\n",
    "        \"skills\": [\"sales\", \"negotiation\"]\n",
    "    },\n",
    "    {\n",
    "        \"id\": 6,\n",
    "        \"name\": \"Emily\",\n",
    "        \"department\": [\"Engineering\", \"Seattle\"],\n",
    "        \"skills\": [\"coding\", \"troubleshooting\"]\n",
    "    }\n",
    "]"
   ]
  },
  {
   "cell_type": "markdown",
   "id": "5b4213d3-848d-460b-adf4-cdad8dbf1e01",
   "metadata": {},
   "source": [
    "##### A. Extract all employee names"
   ]
  },
  {
   "cell_type": "code",
   "execution_count": 64,
   "id": "26afbcff-41b6-4535-854e-60c1b987ed55",
   "metadata": {},
   "outputs": [
    {
     "data": {
      "text/plain": [
       "['John', 'Jane', 'Michael', 'Sarah', 'David', 'Emily']"
      ]
     },
     "execution_count": 64,
     "metadata": {},
     "output_type": "execute_result"
    }
   ],
   "source": [
    "employee_names = [employee[\"name\"] for employee in data]\n",
    "employee_names"
   ]
  },
  {
   "cell_type": "markdown",
   "id": "fad590b6-6b7f-4d1f-a9e6-32dc8d78d35e",
   "metadata": {},
   "source": [
    "##### B. Find the department of employee with ID 4"
   ]
  },
  {
   "cell_type": "code",
   "execution_count": 65,
   "id": "2f6d609e-9cd5-4535-8c77-32f2b0c13b56",
   "metadata": {},
   "outputs": [
    {
     "data": {
      "text/plain": [
       "'Marketing'"
      ]
     },
     "execution_count": 65,
     "metadata": {},
     "output_type": "execute_result"
    }
   ],
   "source": [
    "employee_id = 4\n",
    "department = next(employee[\"department\"][0] for employee in data if employee[\"id\"] == employee_id)\n",
    "department"
   ]
  },
  {
   "cell_type": "markdown",
   "id": "f52484a6-5e8b-4c18-b2e2-e4d4cabdff30",
   "metadata": {},
   "source": [
    "##### C. Count the number of employees in each department"
   ]
  },
  {
   "cell_type": "code",
   "execution_count": 66,
   "id": "dea0652d-6f68-4481-bf39-e25cb3a0a42b",
   "metadata": {},
   "outputs": [
    {
     "data": {
      "text/plain": [
       "{'HR': 1, 'Finance': 1, 'Engineering': 2, 'Marketing': 1, 'Sales': 1}"
      ]
     },
     "execution_count": 66,
     "metadata": {},
     "output_type": "execute_result"
    }
   ],
   "source": [
    "department_counts = {}\n",
    "for employee in data:\n",
    "    department = employee[\"department\"][0]\n",
    "    department_counts[department] = department_counts.get(department, 0) + 1\n",
    "department_counts"
   ]
  },
  {
   "cell_type": "markdown",
   "id": "980c92b6-76ef-4a0c-a4ca-f820f8de83e2",
   "metadata": {},
   "source": [
    "##### D. Find the names of employees in the \"Engineering\" department"
   ]
  },
  {
   "cell_type": "code",
   "execution_count": 67,
   "id": "d6b681fb-9f56-4ac5-b188-ef316353973a",
   "metadata": {},
   "outputs": [
    {
     "data": {
      "text/plain": [
       "['Michael', 'Emily']"
      ]
     },
     "execution_count": 67,
     "metadata": {},
     "output_type": "execute_result"
    }
   ],
   "source": [
    "engineering_employees = [employee[\"name\"] for employee in data if \"Engineering\" in employee[\"department\"]]\n",
    "engineering_employees"
   ]
  },
  {
   "cell_type": "markdown",
   "id": "5a048df9-6bad-408d-805e-f903797da5ec",
   "metadata": {},
   "source": [
    "##### E. Extract names of employees with skills including \"Programming\""
   ]
  },
  {
   "cell_type": "code",
   "execution_count": 68,
   "id": "b1518781-8437-4bca-8064-ac8da8f7ea9f",
   "metadata": {},
   "outputs": [
    {
     "data": {
      "text/plain": [
       "['Michael']"
      ]
     },
     "execution_count": 68,
     "metadata": {},
     "output_type": "execute_result"
    }
   ],
   "source": [
    "programming_experts = [employee[\"name\"] for employee in data if \"programming\" in employee[\"skills\"]]\n",
    "programming_experts"
   ]
  },
  {
   "cell_type": "markdown",
   "id": "7a842fef-3c16-49ce-9edf-a1c514cf761c",
   "metadata": {},
   "source": [
    "##### F. Calculate the average number of skills per employee"
   ]
  },
  {
   "cell_type": "code",
   "execution_count": 69,
   "id": "fb3ad3af-bba3-408e-a6c3-2dd6cfd68787",
   "metadata": {},
   "outputs": [
    {
     "data": {
      "text/plain": [
       "2.1666666666666665"
      ]
     },
     "execution_count": 69,
     "metadata": {},
     "output_type": "execute_result"
    }
   ],
   "source": [
    "total_skills = sum(len(employee[\"skills\"]) for employee in data)\n",
    "average_skills = total_skills / len(data)\n",
    "average_skills"
   ]
  },
  {
   "cell_type": "markdown",
   "id": "f17714c1-51fa-476f-842f-da1bca179385",
   "metadata": {},
   "source": [
    "##### G. Find the employee with the most skills"
   ]
  },
  {
   "cell_type": "code",
   "execution_count": 70,
   "id": "3edcc851-f365-44f2-af23-1a4f37dc817c",
   "metadata": {},
   "outputs": [
    {
     "data": {
      "text/plain": [
       "'John'"
      ]
     },
     "execution_count": 70,
     "metadata": {},
     "output_type": "execute_result"
    }
   ],
   "source": [
    "most_skills_employee = max(data, key=lambda x: len(x[\"skills\"]))\n",
    "most_skills_employee[\"name\"]"
   ]
  }
 ],
 "metadata": {
  "kernelspec": {
   "display_name": "Python 3 (ipykernel)",
   "language": "python",
   "name": "python3"
  },
  "language_info": {
   "codemirror_mode": {
    "name": "ipython",
    "version": 3
   },
   "file_extension": ".py",
   "mimetype": "text/x-python",
   "name": "python",
   "nbconvert_exporter": "python",
   "pygments_lexer": "ipython3",
   "version": "3.10.8"
  }
 },
 "nbformat": 4,
 "nbformat_minor": 5
}
