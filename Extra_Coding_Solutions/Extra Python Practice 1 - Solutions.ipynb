{
 "cells": [
  {
   "cell_type": "markdown",
   "id": "2b0223c8-04df-445c-a7d4-8eccbf1faa10",
   "metadata": {},
   "source": [
    "## Extra Python Practice 1 - Solutions"
   ]
  },
  {
   "cell_type": "code",
   "execution_count": 21,
   "id": "8f55899a-28f7-4d58-9902-c1c76dcf6306",
   "metadata": {},
   "outputs": [],
   "source": [
    "import random"
   ]
  },
  {
   "cell_type": "markdown",
   "id": "ba4b9ea1-c874-4564-b7e2-0aae5d943cc8",
   "metadata": {},
   "source": [
    "#### 1. Odd or Even\n",
    "\n",
    "Ask the user for a number. Depending on whether the number is even or odd, print out an appropriate message to the user. "
   ]
  },
  {
   "cell_type": "markdown",
   "id": "8c05b80e-cc41-4836-b7e8-af99eefae204",
   "metadata": {},
   "source": [
    "**Solution**:"
   ]
  },
  {
   "cell_type": "code",
   "execution_count": 3,
   "id": "7d998b2d-2d22-4ba5-b293-bf9f2f673549",
   "metadata": {},
   "outputs": [
    {
     "name": "stdin",
     "output_type": "stream",
     "text": [
      "Enter a number:  12\n"
     ]
    },
    {
     "name": "stdout",
     "output_type": "stream",
     "text": [
      "You picked an even number.\n"
     ]
    }
   ],
   "source": [
    "num = int(input(\"Enter a number: \"))\n",
    "mod = num % 2\n",
    "if mod > 0:\n",
    "    print(\"You picked an odd number.\")\n",
    "else:\n",
    "    print(\"You picked an even number.\")"
   ]
  },
  {
   "cell_type": "markdown",
   "id": "e88dd337-fd0f-455b-b153-923cdb93f84d",
   "metadata": {},
   "source": [
    "**Extras**:"
   ]
  },
  {
   "cell_type": "code",
   "execution_count": 6,
   "id": "b95fa755-aa83-4d73-9dc3-0bb635da2eb8",
   "metadata": {},
   "outputs": [
    {
     "name": "stdin",
     "output_type": "stream",
     "text": [
      "give me a number to check:  12\n",
      "give me a number to divide by:  5\n"
     ]
    },
    {
     "name": "stdout",
     "output_type": "stream",
     "text": [
      "12 is a multiple of 4\n",
      "12 does not divide evenly by 5\n"
     ]
    }
   ],
   "source": [
    "num = int(input(\"give me a number to check: \"))\n",
    "check = int(input(\"give me a number to divide by: \"))\n",
    "\n",
    "if num % 4 == 0:\n",
    "    print(num, \"is a multiple of 4\")\n",
    "elif num % 2 == 0:\n",
    "    print(num, \"is an even number\")\n",
    "else:\n",
    "    print(num, \"is an odd number\")\n",
    "\n",
    "if num % check == 0:\n",
    "    print(num, \"divides evenly by\", check)\n",
    "else:\n",
    "    print(num, \"does not divide evenly by\", check)"
   ]
  },
  {
   "cell_type": "markdown",
   "id": "d3dc7e64-3b11-4434-8f78-7e5b17de8190",
   "metadata": {},
   "source": [
    "</br>\n",
    "\n",
    "#### 2. Max of Three\n",
    "\n",
    "Implement a function that takes as input three variables, and returns the largest of the three. Do this without using the Python `max()` function!"
   ]
  },
  {
   "cell_type": "markdown",
   "id": "36bfc498-1878-4167-b8f0-b04a04a1cd18",
   "metadata": {},
   "source": [
    "**Solution**:"
   ]
  },
  {
   "cell_type": "code",
   "execution_count": 7,
   "id": "3236b514-9d5a-43ec-afd8-a219bac0dcc3",
   "metadata": {},
   "outputs": [],
   "source": [
    "def find_largest(a, b, c):\n",
    "    if a >= b and a >= c:\n",
    "        return a\n",
    "    elif b >= a and b >= c:\n",
    "        return b\n",
    "    else:\n",
    "        return c"
   ]
  },
  {
   "cell_type": "code",
   "execution_count": 9,
   "id": "28bac7fd-8032-4fd9-900b-37bfda2c97c9",
   "metadata": {},
   "outputs": [
    {
     "name": "stdout",
     "output_type": "stream",
     "text": [
      "The largest of 25, 42, and 18 is 42\n"
     ]
    }
   ],
   "source": [
    "#Testing\n",
    "num1 = 25\n",
    "num2 = 42\n",
    "num3 = 18\n",
    "\n",
    "largest = find_largest(num1, num2, num3)\n",
    "print(f\"The largest of {num1}, {num2}, and {num3} is {largest}\")"
   ]
  },
  {
   "cell_type": "markdown",
   "id": "e588230f-fe27-442f-b175-eea1a94bf722",
   "metadata": {},
   "source": [
    "</br>\n",
    "\n",
    "#### 3. Fibonacci Sequence\n",
    "\n",
    "Ask the user to enter a number and generate the Fibonacci sequence up to that specified number of terms."
   ]
  },
  {
   "cell_type": "markdown",
   "id": "2e262b68-760d-48e9-920b-a81d87a5ee80",
   "metadata": {},
   "source": [
    "**Solution**:"
   ]
  },
  {
   "cell_type": "code",
   "execution_count": 14,
   "id": "73587955-d178-4918-b990-46c8e339ace2",
   "metadata": {},
   "outputs": [
    {
     "name": "stdin",
     "output_type": "stream",
     "text": [
      "Enter the number of terms in the Fibonacci sequence:  12\n"
     ]
    },
    {
     "name": "stdout",
     "output_type": "stream",
     "text": [
      "The first 12 terms of the Fibonacci sequence are: [1, 1, 2, 3, 5, 8, 13, 21, 34, 55, 89, 144]\n"
     ]
    }
   ],
   "source": [
    "def fibonacci(n):\n",
    "    fib_sequence = [1, 1]\n",
    "    while len(fib_sequence) < n:\n",
    "        next_num = fib_sequence[-1] + fib_sequence[-2]\n",
    "        fib_sequence.append(next_num)\n",
    "    return fib_sequence\n",
    "\n",
    "# Generate the first 10 terms of the Fibonacci sequence\n",
    "n_terms = int(input(\"Enter the number of terms in the Fibonacci sequence: \"))\n",
    "fib_sequence = fibonacci(n_terms)\n",
    "print(f\"The first {n_terms} terms of the Fibonacci sequence are: {fib_sequence}\")"
   ]
  },
  {
   "cell_type": "markdown",
   "id": "f908eaaa-c863-4612-b656-00a6791a5fb4",
   "metadata": {},
   "source": [
    "</br>\n",
    "\n",
    "#### 4. Reverse a String\n",
    "\n",
    "Ask the user for a string and write a function to reverse the string.</br>\n",
    "**Example Input**: pizza </br>\n",
    "**Example Output**: azzip"
   ]
  },
  {
   "cell_type": "markdown",
   "id": "f77db9ab-e726-4ebe-915f-ad742b7b4a66",
   "metadata": {},
   "source": [
    "**Solution**:"
   ]
  },
  {
   "cell_type": "code",
   "execution_count": 17,
   "id": "4d72b50f-9a10-41ba-aa4d-1ba97d688033",
   "metadata": {},
   "outputs": [
    {
     "name": "stdin",
     "output_type": "stream",
     "text": [
      "Enter a string:  pizza\n"
     ]
    },
    {
     "name": "stdout",
     "output_type": "stream",
     "text": [
      "The reversed string is: azzip\n"
     ]
    }
   ],
   "source": [
    "def reverse_string(input_string):\n",
    "    reversed_string = input_string[::-1]\n",
    "    return reversed_string\n",
    "\n",
    "input_string = input(\"Enter a string: \")\n",
    "\n",
    "reversed_string = reverse_string(input_string)\n",
    "print(f\"The reversed string is: {reversed_string}\")"
   ]
  },
  {
   "cell_type": "markdown",
   "id": "95f897d1-ddc1-4966-b798-752417a0e01f",
   "metadata": {},
   "source": [
    "</br>\n",
    "\n",
    "#### 5. Count Characters\n",
    "\n",
    "Write a program that counts the occurrences of each character in a string. </br>\n",
    "**Example Input**: burger </br>\n",
    "**Example Output**: </br>\n",
    "'b': 1 </br>\n",
    "'u': 1 </br>\n",
    "'r': 2 </br>\n",
    "'g': 1 </br>\n",
    "'e': 1"
   ]
  },
  {
   "cell_type": "markdown",
   "id": "a6e8621e-bd59-4d73-9702-96ebd7986037",
   "metadata": {},
   "source": [
    "**Solution**:"
   ]
  },
  {
   "cell_type": "code",
   "execution_count": 19,
   "id": "ecb2d91a-e9ad-4617-b8ea-0b5c704a7ef3",
   "metadata": {},
   "outputs": [
    {
     "name": "stdin",
     "output_type": "stream",
     "text": [
      "Enter a string:  burger\n"
     ]
    },
    {
     "name": "stdout",
     "output_type": "stream",
     "text": [
      "Character counts:\n",
      "'b': 1\n",
      "'u': 1\n",
      "'r': 2\n",
      "'g': 1\n",
      "'e': 1\n"
     ]
    }
   ],
   "source": [
    "def count_characters(input_string):\n",
    "    char_count = {}\n",
    "    for char in input_string:\n",
    "        if char in char_count:\n",
    "            char_count[char] += 1\n",
    "        else:\n",
    "            char_count[char] = 1\n",
    "    return char_count\n",
    "\n",
    "input_string = input(\"Enter a string: \")\n",
    "\n",
    "char_count = count_characters(input_string)\n",
    "print(\"Character counts:\")\n",
    "for char, count in char_count.items():\n",
    "    print(f\"'{char}': {count}\")"
   ]
  },
  {
   "cell_type": "markdown",
   "id": "73680725-d4cb-431c-846d-0ee1e868e520",
   "metadata": {},
   "source": [
    "</br>\n",
    "\n",
    "#### 6. Guess the Number\n",
    "\n",
    "Write a program where a user tries to guess a randomly generated number.\n",
    " - prints whether the guess is too low or too high and user has another guess\n",
    " - once the user guesses the number print out how many guesses it took"
   ]
  },
  {
   "cell_type": "markdown",
   "id": "ebceb6ec-93ad-43ea-b6ec-1abe3c5e81e2",
   "metadata": {},
   "source": [
    "**Solution**:"
   ]
  },
  {
   "cell_type": "code",
   "execution_count": 23,
   "id": "78968cec-12f8-4fd8-a549-7382ec82565e",
   "metadata": {},
   "outputs": [
    {
     "name": "stdout",
     "output_type": "stream",
     "text": [
      "Welcome to Guess the Number!\n"
     ]
    },
    {
     "name": "stdin",
     "output_type": "stream",
     "text": [
      "Guess the secret number (between 1 and 100):  50\n"
     ]
    },
    {
     "name": "stdout",
     "output_type": "stream",
     "text": [
      "Too low! Try again.\n"
     ]
    },
    {
     "name": "stdin",
     "output_type": "stream",
     "text": [
      "Guess the secret number (between 1 and 100):  63\n"
     ]
    },
    {
     "name": "stdout",
     "output_type": "stream",
     "text": [
      "Too high! Try again.\n"
     ]
    },
    {
     "name": "stdin",
     "output_type": "stream",
     "text": [
      "Guess the secret number (between 1 and 100):  55\n"
     ]
    },
    {
     "name": "stdout",
     "output_type": "stream",
     "text": [
      "Too low! Try again.\n"
     ]
    },
    {
     "name": "stdin",
     "output_type": "stream",
     "text": [
      "Guess the secret number (between 1 and 100):  58\n"
     ]
    },
    {
     "name": "stdout",
     "output_type": "stream",
     "text": [
      "Too high! Try again.\n"
     ]
    },
    {
     "name": "stdin",
     "output_type": "stream",
     "text": [
      "Guess the secret number (between 1 and 100):  56\n"
     ]
    },
    {
     "name": "stdout",
     "output_type": "stream",
     "text": [
      "Too low! Try again.\n"
     ]
    },
    {
     "name": "stdin",
     "output_type": "stream",
     "text": [
      "Guess the secret number (between 1 and 100):  57\n"
     ]
    },
    {
     "name": "stdout",
     "output_type": "stream",
     "text": [
      "Congratulations! You guessed the secret number 57 in 6 attempts.\n"
     ]
    }
   ],
   "source": [
    "def guess_the_number():\n",
    "    secret_number = random.randint(1, 100)  # Generate a random number between 1 and 100\n",
    "    attempts = 0\n",
    "\n",
    "    while True:\n",
    "        guess = int(input(\"Guess the secret number (between 1 and 100): \"))\n",
    "        attempts += 1\n",
    "\n",
    "        if guess < secret_number:\n",
    "            print(\"Too low! Try again.\")\n",
    "        elif guess > secret_number:\n",
    "            print(\"Too high! Try again.\")\n",
    "        else:\n",
    "            print(f\"Congratulations! You guessed the secret number {secret_number} in {attempts} attempts.\")\n",
    "            return\n",
    "\n",
    "# Start the guessing game\n",
    "print(\"Welcome to Guess the Number!\")\n",
    "guess_the_number()"
   ]
  },
  {
   "cell_type": "code",
   "execution_count": null,
   "id": "f855d7bb-5170-43ad-b5fd-27a11c1f8ef9",
   "metadata": {},
   "outputs": [],
   "source": []
  }
 ],
 "metadata": {
  "kernelspec": {
   "display_name": "Python 3 (ipykernel)",
   "language": "python",
   "name": "python3"
  },
  "language_info": {
   "codemirror_mode": {
    "name": "ipython",
    "version": 3
   },
   "file_extension": ".py",
   "mimetype": "text/x-python",
   "name": "python",
   "nbconvert_exporter": "python",
   "pygments_lexer": "ipython3",
   "version": "3.10.8"
  }
 },
 "nbformat": 4,
 "nbformat_minor": 5
}
