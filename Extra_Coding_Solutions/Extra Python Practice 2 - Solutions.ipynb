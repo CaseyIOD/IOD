{
 "cells": [
  {
   "cell_type": "markdown",
   "id": "508d7410-8993-4c6b-ac6e-c43e9ab8d7c4",
   "metadata": {},
   "source": [
    "## Extra Python Practice 2 - Solutions"
   ]
  },
  {
   "cell_type": "code",
   "execution_count": null,
   "id": "fa87529b-27b2-4aae-b9f2-ce4ff90ff3f9",
   "metadata": {},
   "outputs": [],
   "source": [
    "import datetime\n",
    "\n",
    "# Get the current date and time\n",
    "current_date = datetime.datetime.now().year\n",
    "current_date"
   ]
  },
  {
   "cell_type": "markdown",
   "id": "b5b689be-71c5-4b6a-9f61-212de8de0114",
   "metadata": {},
   "source": [
    "Morse Code one"
   ]
  },
  {
   "cell_type": "code",
   "execution_count": null,
   "id": "2e4ac0e4-2da9-452b-8c41-2c219cf51ab7",
   "metadata": {},
   "outputs": [
    {
     "name": "stdout",
     "output_type": "stream",
     "text": [
      "Choose an option:\n",
      "1. Text to Morse Code\n",
      "2. Morse Code to Text\n",
      "3. Exit\n"
     ]
    },
    {
     "name": "stdin",
     "output_type": "stream",
     "text": [
      "Enter your choice:  IOD\n"
     ]
    },
    {
     "name": "stdout",
     "output_type": "stream",
     "text": [
      "Invalid choice. Please select a valid option.\n",
      "Choose an option:\n",
      "1. Text to Morse Code\n",
      "2. Morse Code to Text\n",
      "3. Exit\n"
     ]
    },
    {
     "name": "stdin",
     "output_type": "stream",
     "text": [
      "Enter your choice:  iod\n"
     ]
    },
    {
     "name": "stdout",
     "output_type": "stream",
     "text": [
      "Invalid choice. Please select a valid option.\n",
      "Choose an option:\n",
      "1. Text to Morse Code\n",
      "2. Morse Code to Text\n",
      "3. Exit\n"
     ]
    },
    {
     "name": "stdin",
     "output_type": "stream",
     "text": [
      "Enter your choice:  1\n",
      "Enter text:  IOD\n"
     ]
    },
    {
     "name": "stdout",
     "output_type": "stream",
     "text": [
      "Morse Code: .. --- -..\n",
      "Choose an option:\n",
      "1. Text to Morse Code\n",
      "2. Morse Code to Text\n",
      "3. Exit\n"
     ]
    }
   ],
   "source": [
    "# Define a dictionary to map Morse code symbols to text characters\n",
    "morse_code_dict = {\n",
    "    'A': '.-', 'B': '-...', 'C': '-.-.', 'D': '-..', 'E': '.', 'F': '..-.', 'G': '--.', 'H': '....',\n",
    "    'I': '..', 'J': '.---', 'K': '-.-', 'L': '.-..', 'M': '--', 'N': '-.', 'O': '---', 'P': '.--.',\n",
    "    'Q': '--.-', 'R': '.-.', 'S': '...', 'T': '-', 'U': '..-', 'V': '...-', 'W': '.--', 'X': '-..-',\n",
    "    'Y': '-.--', 'Z': '--..',\n",
    "    '0': '-----', '1': '.----', '2': '..---', '3': '...--', '4': '....-', '5': '.....',\n",
    "    '6': '-....', '7': '--...', '8': '---..', '9': '----.',\n",
    "    ' ': ' '  # Space\n",
    "}\n",
    "\n",
    "# Define a function to translate text to Morse code\n",
    "def text_to_morse(text):\n",
    "    morse_code = []\n",
    "    for char in text.upper():\n",
    "        if char in morse_code_dict:\n",
    "            morse_code.append(morse_code_dict[char])\n",
    "        else:\n",
    "            morse_code.append(' ')\n",
    "    \n",
    "    return ' '.join(morse_code)\n",
    "\n",
    "# Define a function to translate Morse code to text\n",
    "def morse_to_text(morse_code):\n",
    "    # Reverse the dictionary to map Morse code symbols to text characters\n",
    "    text_dict = {value: key for key, value in morse_code_dict.items()}\n",
    "    \n",
    "    # Split the Morse code input into symbols\n",
    "    morse_symbols = morse_code.split(' ')\n",
    "    \n",
    "    text = []\n",
    "    for symbol in morse_symbols:\n",
    "        if symbol in text_dict:\n",
    "            text.append(text_dict[symbol])\n",
    "        else:\n",
    "            text.append(' ')\n",
    "    \n",
    "    return ''.join(text)\n",
    "\n",
    "# Main program\n",
    "while True:\n",
    "    print(\"Choose an option:\")\n",
    "    print(\"1. Text to Morse Code\")\n",
    "    print(\"2. Morse Code to Text\")\n",
    "    print(\"3. Exit\")\n",
    "    \n",
    "    choice = input(\"Enter your choice: \")\n",
    "    \n",
    "    if choice == '1':\n",
    "        text_input = input(\"Enter text: \")\n",
    "        morse_output = text_to_morse(text_input)\n",
    "        print(\"Morse Code:\", morse_output)\n",
    "    elif choice == '2':\n",
    "        morse_input = input(\"Enter Morse code (use '.' for dot and '-' for dash): \")\n",
    "        text_output = morse_to_text(morse_input)\n",
    "        print(\"Text:\", text_output)\n",
    "    elif choice == '3':\n",
    "        print(\"Exiting the Morse Code Translator.\")\n",
    "        break\n",
    "    else:\n",
    "        print(\"Invalid choice. Please select a valid option.\")"
   ]
  },
  {
   "cell_type": "code",
   "execution_count": null,
   "id": "1087be65-9fd4-4498-a291-ae6b9ee1755c",
   "metadata": {},
   "outputs": [],
   "source": []
  }
 ],
 "metadata": {
  "kernelspec": {
   "display_name": "Python 3 (ipykernel)",
   "language": "python",
   "name": "python3"
  },
  "language_info": {
   "codemirror_mode": {
    "name": "ipython",
    "version": 3
   },
   "file_extension": ".py",
   "mimetype": "text/x-python",
   "name": "python",
   "nbconvert_exporter": "python",
   "pygments_lexer": "ipython3",
   "version": "3.10.8"
  }
 },
 "nbformat": 4,
 "nbformat_minor": 5
}
